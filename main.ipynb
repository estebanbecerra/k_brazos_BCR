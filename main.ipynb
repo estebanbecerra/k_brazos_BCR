{
  "cells": [
    {
      "cell_type": "markdown",
      "metadata": {
        "id": "view-in-github",
        "colab_type": "text"
      },
      "source": [
        "<a href=\"https://colab.research.google.com/github/estebanbecerra/k_brazos_BCR/blob/main/main.ipynb\" target=\"_parent\"><img src=\"https://colab.research.google.com/assets/colab-badge.svg\" alt=\"Open In Colab\"/></a>"
      ]
    },
    {
      "metadata": {
        "id": "45718ddbdacc17ac"
      },
      "cell_type": "markdown",
      "source": [
        "# Práctica 1 Extensiones de Machine Learning\n",
        "\n",
        "**Alumnos**:<br>\n",
        "- Esteban Becerra Fernández (esteban.becerraf@um.es)\n",
        "- Carlos Cruzado Esteban (carlos.cruzadoe1@um.es)\n",
        "- Anastasiya Ruzhytska Ruzhytska (anastasiya.r.r@um.es)\n",
        "\n",
        "**Máster de Inteligencia Artificial**\n",
        "\n",
        "**Facultad de Informática**\n",
        "\n",
        "![](https://www.um.es/image/layout_set_logo?img_id=175281&t=1726728636242)\n",
        "\n",
        "**Universidad de Murcia**\n",
        "\n",
        "![](https://www.um.es/o/um-lr-principal-um-home-theme/images/logo-um.png)\n",
        "\n"
      ],
      "id": "45718ddbdacc17ac"
    },
    {
      "cell_type": "markdown",
      "source": [
        "# Proyecto Bandido Multi-brazo\n",
        "Este es el notebook principal del proyecto **Bandido Multi-brazo**.\n",
        "\n",
        " **Instrucciones**\n",
        "1. Haz clic en el siguiente enlace para abrir este proyecto en Google Colab:\n",
        "   [![Abrir en Colab](https://colab.research.google.com/assets/colab-badge.svg)](https://github.com/estebanbecerra/k_brazos_BCR/blob/main/main.ipynb)\n",
        "2. Ejecuta todas las celdas (`Entorno de ejecución > Ejecutar todas`).\n",
        "3. Al final del notebook se incluyen enlaces a los distintos notebooks implementados para este ejercicio.\n",
        "4. Para cada notebook, realizar el paso **2.**"
      ],
      "metadata": {
        "id": "S47ejiUPfwEt"
      },
      "id": "S47ejiUPfwEt"
    },
    {
      "metadata": {
        "id": "7c1697e197fa5a08"
      },
      "cell_type": "markdown",
      "source": [
        "## Preparación del entorno\n"
      ],
      "id": "7c1697e197fa5a08"
    },
    {
      "metadata": {
        "id": "bf5905976fb24fe",
        "outputId": "0f58e73d-ca13-4b3b-aa84-a6586efa9713",
        "colab": {
          "base_uri": "https://localhost:8080/"
        }
      },
      "cell_type": "code",
      "source": [
        "# Copiar el repositorio.\n",
        "\n",
        "!git clone https://github.com/estebanbecerra/k_brazos_BCR.git\n",
        "!cd k_brazos_BCR/"
      ],
      "id": "bf5905976fb24fe",
      "outputs": [
        {
          "output_type": "stream",
          "name": "stdout",
          "text": [
            "Cloning into 'k_brazos_BCR'...\n",
            "remote: Enumerating objects: 148, done.\u001b[K\n",
            "remote: Counting objects: 100% (148/148), done.\u001b[K\n",
            "remote: Compressing objects: 100% (141/141), done.\u001b[K\n",
            "remote: Total 148 (delta 61), reused 4 (delta 2), pack-reused 0 (from 0)\u001b[K\n",
            "Receiving objects: 100% (148/148), 4.18 MiB | 8.76 MiB/s, done.\n",
            "Resolving deltas: 100% (61/61), done.\n"
          ]
        }
      ],
      "execution_count": 1
    },
    {
      "cell_type": "markdown",
      "source": [
        "## Instalación de dependencias"
      ],
      "metadata": {
        "id": "WiMoOFB1iThG"
      },
      "id": "WiMoOFB1iThG"
    },
    {
      "cell_type": "code",
      "source": [
        "!pip install -r k_brazos_BCR/requirements.txt"
      ],
      "metadata": {
        "colab": {
          "base_uri": "https://localhost:8080/"
        },
        "id": "cw9kfTzpiRlZ",
        "outputId": "f9807ac8-2b70-4dad-cc53-495278a87ca7"
      },
      "id": "cw9kfTzpiRlZ",
      "execution_count": 4,
      "outputs": [
        {
          "output_type": "stream",
          "name": "stdout",
          "text": [
            "Collecting numpy~=2.2.2 (from -r k_brazos_BCR/requirements.txt (line 1))\n",
            "  Downloading numpy-2.2.3-cp311-cp311-manylinux_2_17_x86_64.manylinux2014_x86_64.whl.metadata (62 kB)\n",
            "\u001b[?25l     \u001b[90m━━━━━━━━━━━━━━━━━━━━━━━━━━━━━━━━━━━━━━━━\u001b[0m \u001b[32m0.0/62.0 kB\u001b[0m \u001b[31m?\u001b[0m eta \u001b[36m-:--:--\u001b[0m\r\u001b[2K     \u001b[90m━━━━━━━━━━━━━━━━━━━━━━━━━━━━━━━━━━━━━━━━\u001b[0m \u001b[32m62.0/62.0 kB\u001b[0m \u001b[31m2.0 MB/s\u001b[0m eta \u001b[36m0:00:00\u001b[0m\n",
            "\u001b[?25hRequirement already satisfied: seaborn~=0.13.2 in /usr/local/lib/python3.11/dist-packages (from -r k_brazos_BCR/requirements.txt (line 2)) (0.13.2)\n",
            "Requirement already satisfied: matplotlib~=3.10.0 in /usr/local/lib/python3.11/dist-packages (from -r k_brazos_BCR/requirements.txt (line 3)) (3.10.0)\n",
            "Requirement already satisfied: pandas>=1.2 in /usr/local/lib/python3.11/dist-packages (from seaborn~=0.13.2->-r k_brazos_BCR/requirements.txt (line 2)) (2.2.2)\n",
            "Requirement already satisfied: contourpy>=1.0.1 in /usr/local/lib/python3.11/dist-packages (from matplotlib~=3.10.0->-r k_brazos_BCR/requirements.txt (line 3)) (1.3.1)\n",
            "Requirement already satisfied: cycler>=0.10 in /usr/local/lib/python3.11/dist-packages (from matplotlib~=3.10.0->-r k_brazos_BCR/requirements.txt (line 3)) (0.12.1)\n",
            "Requirement already satisfied: fonttools>=4.22.0 in /usr/local/lib/python3.11/dist-packages (from matplotlib~=3.10.0->-r k_brazos_BCR/requirements.txt (line 3)) (4.56.0)\n",
            "Requirement already satisfied: kiwisolver>=1.3.1 in /usr/local/lib/python3.11/dist-packages (from matplotlib~=3.10.0->-r k_brazos_BCR/requirements.txt (line 3)) (1.4.8)\n",
            "Requirement already satisfied: packaging>=20.0 in /usr/local/lib/python3.11/dist-packages (from matplotlib~=3.10.0->-r k_brazos_BCR/requirements.txt (line 3)) (24.2)\n",
            "Requirement already satisfied: pillow>=8 in /usr/local/lib/python3.11/dist-packages (from matplotlib~=3.10.0->-r k_brazos_BCR/requirements.txt (line 3)) (11.1.0)\n",
            "Requirement already satisfied: pyparsing>=2.3.1 in /usr/local/lib/python3.11/dist-packages (from matplotlib~=3.10.0->-r k_brazos_BCR/requirements.txt (line 3)) (3.2.1)\n",
            "Requirement already satisfied: python-dateutil>=2.7 in /usr/local/lib/python3.11/dist-packages (from matplotlib~=3.10.0->-r k_brazos_BCR/requirements.txt (line 3)) (2.8.2)\n",
            "Requirement already satisfied: pytz>=2020.1 in /usr/local/lib/python3.11/dist-packages (from pandas>=1.2->seaborn~=0.13.2->-r k_brazos_BCR/requirements.txt (line 2)) (2025.1)\n",
            "Requirement already satisfied: tzdata>=2022.7 in /usr/local/lib/python3.11/dist-packages (from pandas>=1.2->seaborn~=0.13.2->-r k_brazos_BCR/requirements.txt (line 2)) (2025.1)\n",
            "Requirement already satisfied: six>=1.5 in /usr/local/lib/python3.11/dist-packages (from python-dateutil>=2.7->matplotlib~=3.10.0->-r k_brazos_BCR/requirements.txt (line 3)) (1.17.0)\n",
            "Downloading numpy-2.2.3-cp311-cp311-manylinux_2_17_x86_64.manylinux2014_x86_64.whl (16.4 MB)\n",
            "\u001b[2K   \u001b[90m━━━━━━━━━━━━━━━━━━━━━━━━━━━━━━━━━━━━━━━━\u001b[0m \u001b[32m16.4/16.4 MB\u001b[0m \u001b[31m71.8 MB/s\u001b[0m eta \u001b[36m0:00:00\u001b[0m\n",
            "\u001b[?25hInstalling collected packages: numpy\n",
            "  Attempting uninstall: numpy\n",
            "    Found existing installation: numpy 1.26.4\n",
            "    Uninstalling numpy-1.26.4:\n",
            "      Successfully uninstalled numpy-1.26.4\n",
            "\u001b[31mERROR: pip's dependency resolver does not currently take into account all the packages that are installed. This behaviour is the source of the following dependency conflicts.\n",
            "pytensor 2.27.1 requires numpy<2,>=1.17.0, but you have numpy 2.2.3 which is incompatible.\n",
            "tensorflow 2.18.0 requires numpy<2.1.0,>=1.26.0, but you have numpy 2.2.3 which is incompatible.\n",
            "numba 0.61.0 requires numpy<2.2,>=1.24, but you have numpy 2.2.3 which is incompatible.\n",
            "gensim 4.3.3 requires numpy<2.0,>=1.18.5, but you have numpy 2.2.3 which is incompatible.\n",
            "thinc 8.2.5 requires numpy<2.0.0,>=1.19.0; python_version >= \"3.9\", but you have numpy 2.2.3 which is incompatible.\n",
            "langchain 0.3.19 requires numpy<2,>=1.26.4; python_version < \"3.12\", but you have numpy 2.2.3 which is incompatible.\u001b[0m\u001b[31m\n",
            "\u001b[0mSuccessfully installed numpy-2.2.3\n"
          ]
        }
      ]
    },
    {
      "metadata": {
        "ExecuteTime": {
          "end_time": "2025-01-29T15:16:53.845102Z",
          "start_time": "2025-01-29T15:16:53.842529Z"
        },
        "id": "4582eec6",
        "outputId": "955669bd-1d5f-4fd9-a875-300ded159ac8",
        "colab": {
          "base_uri": "https://localhost:8080/"
        }
      },
      "cell_type": "code",
      "source": [
        "# Importamos todas las clases y funciones\n",
        "\n",
        "import sys\n",
        "\n",
        "# Añadir los directorio fuentes al path de Python\n",
        "sys.path.append('/content/k_brazos_BCR')\n",
        "\n",
        "\n",
        "# Verificar que se han añadido correctamente\n",
        "print(sys.path)\n",
        "\n",
        "import numpy as np\n",
        "from typing import List\n",
        "\n",
        "from algorithms import Algorithm, EpsilonGreedy\n",
        "from arms import ArmNormal, Bandit\n",
        "from plotting import plot_average_rewards, plot_optimal_selections, plot_arm_statistics, plot_regret\n"
      ],
      "id": "4582eec6",
      "outputs": [
        {
          "output_type": "stream",
          "name": "stdout",
          "text": [
            "['/content', '/env/python', '/usr/lib/python311.zip', '/usr/lib/python3.11', '/usr/lib/python3.11/lib-dynload', '', '/usr/local/lib/python3.11/dist-packages', '/usr/lib/python3/dist-packages', '/usr/local/lib/python3.11/dist-packages/IPython/extensions', '/root/.ipython', '/content/k_brazos_BCR']\n"
          ]
        }
      ],
      "execution_count": 3
    },
    {
      "cell_type": "markdown",
      "source": [
        " ## A continuación se presentan los enlaces a los distintos notebooks implementados para el ejercicio 1."
      ],
      "metadata": {
        "id": "GSkPfnrpdqtw"
      },
      "id": "GSkPfnrpdqtw"
    },
    {
      "cell_type": "markdown",
      "source": [
        "- [📘 Notebook 1: Estrategia Epsilon-Greedy](https://github.com/estebanbecerra/k_brazos_BCR/blob/main/notebook1.ipynb)\n",
        "- [📘 Notebook 2: Algoritmos de la familia UCB](https://github.com/estebanbecerra/k_brazos_BCR/blob/main/notebook2.ipynb)\n",
        "- [📘 Notebook 3: Algoritmos de ascenso de gradiente](https://github.com/estebanbecerra/k_brazos_BCR/blob/main/notebook3.ipynb)\n"
      ],
      "metadata": {
        "id": "z2IMaqvFeawn"
      },
      "id": "z2IMaqvFeawn"
    }
  ],
  "metadata": {
    "kernelspec": {
      "name": "python3",
      "language": "python",
      "display_name": "Python 3 (ipykernel)"
    },
    "colab": {
      "provenance": [],
      "include_colab_link": true
    }
  },
  "nbformat": 4,
  "nbformat_minor": 5
}